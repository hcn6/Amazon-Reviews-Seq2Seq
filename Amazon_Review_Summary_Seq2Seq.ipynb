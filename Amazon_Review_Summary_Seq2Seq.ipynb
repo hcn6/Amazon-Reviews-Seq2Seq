{
  "nbformat": 4,
  "nbformat_minor": 0,
  "metadata": {
    "colab": {
      "name": "Amazon Review Summary Seq2Seq.ipynb",
      "provenance": []
    },
    "kernelspec": {
      "name": "python3",
      "display_name": "Python 3"
    },
    "language_info": {
      "name": "python"
    },
    "accelerator": "GPU"
  },
  "cells": [
    {
      "cell_type": "markdown",
      "metadata": {
        "id": "lXayXShAzxci"
      },
      "source": [
        "#Get dataset"
      ]
    },
    {
      "cell_type": "code",
      "metadata": {
        "id": "8VSSx9LZW_xO"
      },
      "source": [
        "api_token = {\"username\":\"trunghieu2001\",\"key\":\"445de88e52f3c7c40fc10c0f9ef4a461\"}\n",
        "!mkdir ~/.kaggle\n",
        "!touch ~/.kaggle/kaggle.json\n",
        "import json\n",
        "\n",
        "with open('/root/.kaggle/kaggle.json', 'w') as file:\n",
        "    json.dump(api_token, file)\n",
        "\n",
        "!chmod 600 ~/.kaggle/kaggle.json"
      ],
      "execution_count": null,
      "outputs": []
    },
    {
      "cell_type": "code",
      "metadata": {
        "colab": {
          "base_uri": "https://localhost:8080/"
        },
        "id": "WRe4cvRMXNA3",
        "outputId": "1a9a69e3-24ad-4396-f9ee-ec4233e8aac7"
      },
      "source": [
        "!kaggle datasets download -d snap/amazon-fine-food-reviews"
      ],
      "execution_count": null,
      "outputs": [
        {
          "output_type": "stream",
          "text": [
            "Downloading amazon-fine-food-reviews.zip to /content\n",
            " 98% 237M/242M [00:05<00:00, 36.7MB/s]\n",
            "100% 242M/242M [00:05<00:00, 46.3MB/s]\n"
          ],
          "name": "stdout"
        }
      ]
    },
    {
      "cell_type": "code",
      "metadata": {
        "colab": {
          "base_uri": "https://localhost:8080/"
        },
        "id": "azaqwtUZB8QF",
        "outputId": "c9b89809-cec0-4d92-8ac9-fec3ef9f49cc"
      },
      "source": [
        "!wget http://nlp.stanford.edu/data/glove.6B.zip"
      ],
      "execution_count": null,
      "outputs": [
        {
          "output_type": "stream",
          "text": [
            "--2021-06-30 19:37:45--  http://nlp.stanford.edu/data/glove.6B.zip\n",
            "Resolving nlp.stanford.edu (nlp.stanford.edu)... 171.64.67.140\n",
            "Connecting to nlp.stanford.edu (nlp.stanford.edu)|171.64.67.140|:80... connected.\n",
            "HTTP request sent, awaiting response... 302 Found\n",
            "Location: https://nlp.stanford.edu/data/glove.6B.zip [following]\n",
            "--2021-06-30 19:37:45--  https://nlp.stanford.edu/data/glove.6B.zip\n",
            "Connecting to nlp.stanford.edu (nlp.stanford.edu)|171.64.67.140|:443... connected.\n",
            "HTTP request sent, awaiting response... 301 Moved Permanently\n",
            "Location: http://downloads.cs.stanford.edu/nlp/data/glove.6B.zip [following]\n",
            "--2021-06-30 19:37:46--  http://downloads.cs.stanford.edu/nlp/data/glove.6B.zip\n",
            "Resolving downloads.cs.stanford.edu (downloads.cs.stanford.edu)... 171.64.64.22\n",
            "Connecting to downloads.cs.stanford.edu (downloads.cs.stanford.edu)|171.64.64.22|:80... connected.\n",
            "HTTP request sent, awaiting response... 200 OK\n",
            "Length: 862182613 (822M) [application/zip]\n",
            "Saving to: ‘glove.6B.zip’\n",
            "\n",
            "glove.6B.zip        100%[===================>] 822.24M  5.10MB/s    in 2m 41s  \n",
            "\n",
            "2021-06-30 19:40:28 (5.09 MB/s) - ‘glove.6B.zip’ saved [862182613/862182613]\n",
            "\n"
          ],
          "name": "stdout"
        }
      ]
    },
    {
      "cell_type": "code",
      "metadata": {
        "colab": {
          "base_uri": "https://localhost:8080/"
        },
        "id": "cMqNhUdVCUlO",
        "outputId": "46f143ab-6c99-484e-a479-1c87e5a92681"
      },
      "source": [
        "import zipfile\n",
        "with zipfile.ZipFile('/content/glove.6B.zip', 'r') as zip_ref:\n",
        "    print('Start unzipping')\n",
        "    zip_ref.extractall('/content')\n",
        "    print('Finish unzip')"
      ],
      "execution_count": null,
      "outputs": [
        {
          "output_type": "stream",
          "text": [
            "Start unzipping\n",
            "Finish unzip\n"
          ],
          "name": "stdout"
        }
      ]
    },
    {
      "cell_type": "code",
      "metadata": {
        "colab": {
          "base_uri": "https://localhost:8080/"
        },
        "id": "bf2WgIhTZ3Uo",
        "outputId": "03b733ad-339b-4d90-d39e-9d974314f35a"
      },
      "source": [
        "with zipfile.ZipFile('/content/amazon-fine-food-reviews.zip', 'r') as zip_ref:\n",
        "    print('Start unzipping')\n",
        "    zip_ref.extractall('/content')\n",
        "    print('Finish unzip')"
      ],
      "execution_count": null,
      "outputs": [
        {
          "output_type": "stream",
          "text": [
            "Start unzipping\n",
            "Finish unzip\n"
          ],
          "name": "stdout"
        }
      ]
    },
    {
      "cell_type": "code",
      "metadata": {
        "colab": {
          "base_uri": "https://localhost:8080/"
        },
        "id": "BBhqo4L2aaLz",
        "outputId": "aa5f891a-968b-4a6d-f783-ca2f03b0cf77"
      },
      "source": [
        "import pandas as pd\n",
        "import numpy as np\n",
        "\n",
        "data = pd.read_csv('/content/Reviews.csv')\n",
        "df = pd.DataFrame(data)\n",
        "df['Text'] = df['Text'].astype(str)\n",
        "df['Summary'] = df['Summary'].astype(str)\n",
        "print(df.dtypes)\n",
        "print(df.columns)\n",
        "df = df.drop(['Id', 'ProductId', 'UserId', 'ProfileName', 'HelpfulnessNumerator',\n",
        "       'HelpfulnessDenominator', 'Score', 'Time'], axis=1)\n",
        "print(df[:10])\n"
      ],
      "execution_count": null,
      "outputs": [
        {
          "output_type": "stream",
          "text": [
            "Id                         int64\n",
            "ProductId                 object\n",
            "UserId                    object\n",
            "ProfileName               object\n",
            "HelpfulnessNumerator       int64\n",
            "HelpfulnessDenominator     int64\n",
            "Score                      int64\n",
            "Time                       int64\n",
            "Summary                   object\n",
            "Text                      object\n",
            "dtype: object\n",
            "Index(['Id', 'ProductId', 'UserId', 'ProfileName', 'HelpfulnessNumerator',\n",
            "       'HelpfulnessDenominator', 'Score', 'Time', 'Summary', 'Text'],\n",
            "      dtype='object')\n",
            "                                         Summary                                               Text\n",
            "0                          Good Quality Dog Food  I have bought several of the Vitality canned d...\n",
            "1                              Not as Advertised  Product arrived labeled as Jumbo Salted Peanut...\n",
            "2                          \"Delight\" says it all  This is a confection that has been around a fe...\n",
            "3                                 Cough Medicine  If you are looking for the secret ingredient i...\n",
            "4                                    Great taffy  Great taffy at a great price.  There was a wid...\n",
            "5                                     Nice Taffy  I got a wild hair for taffy and ordered this f...\n",
            "6  Great!  Just as good as the expensive brands!  This saltwater taffy had great flavors and was...\n",
            "7                         Wonderful, tasty taffy  This taffy is so good.  It is very soft and ch...\n",
            "8                                     Yay Barley  Right now I'm mostly just sprouting this so my...\n",
            "9                               Healthy Dog Food  This is a very healthy dog food. Good for thei...\n"
          ],
          "name": "stdout"
        }
      ]
    },
    {
      "cell_type": "code",
      "metadata": {
        "colab": {
          "base_uri": "https://localhost:8080/"
        },
        "id": "Bf070H_hl3a6",
        "outputId": "f2d21e6c-3d40-480a-f5ba-aeeb7d1da761"
      },
      "source": [
        "input = [text for text in df['Text']]\n",
        "target = [text for text in df['Summary']]\n",
        "print(input[:10])\n",
        "print(target[:10])"
      ],
      "execution_count": null,
      "outputs": [
        {
          "output_type": "stream",
          "text": [
            "['I have bought several of the Vitality canned dog food products and have found them all to be of good quality. The product looks more like a stew than a processed meat and it smells better. My Labrador is finicky and she appreciates this product better than  most.', 'Product arrived labeled as Jumbo Salted Peanuts...the peanuts were actually small sized unsalted. Not sure if this was an error or if the vendor intended to represent the product as \"Jumbo\".', 'This is a confection that has been around a few centuries.  It is a light, pillowy citrus gelatin with nuts - in this case Filberts. And it is cut into tiny squares and then liberally coated with powdered sugar.  And it is a tiny mouthful of heaven.  Not too chewy, and very flavorful.  I highly recommend this yummy treat.  If you are familiar with the story of C.S. Lewis\\' \"The Lion, The Witch, and The Wardrobe\" - this is the treat that seduces Edmund into selling out his Brother and Sisters to the Witch.', 'If you are looking for the secret ingredient in Robitussin I believe I have found it.  I got this in addition to the Root Beer Extract I ordered (which was good) and made some cherry soda.  The flavor is very medicinal.', 'Great taffy at a great price.  There was a wide assortment of yummy taffy.  Delivery was very quick.  If your a taffy lover, this is a deal.', 'I got a wild hair for taffy and ordered this five pound bag. The taffy was all very enjoyable with many flavors: watermelon, root beer, melon, peppermint, grape, etc. My only complaint is there was a bit too much red/black licorice-flavored pieces (just not my particular favorites). Between me, my kids, and my husband, this lasted only two weeks! I would recommend this brand of taffy -- it was a delightful treat.', \"This saltwater taffy had great flavors and was very soft and chewy.  Each candy was individually wrapped well.  None of the candies were stuck together, which did happen in the expensive version, Fralinger's.  Would highly recommend this candy!  I served it at a beach-themed party and everyone loved it!\", 'This taffy is so good.  It is very soft and chewy.  The flavors are amazing.  I would definitely recommend you buying it.  Very satisfying!!', \"Right now I'm mostly just sprouting this so my cats can eat the grass. They love it. I rotate it around with Wheatgrass and Rye too\", 'This is a very healthy dog food. Good for their digestion. Also good for small puppies. My dog eats her required amount at every feeding.']\n",
            "['Good Quality Dog Food', 'Not as Advertised', '\"Delight\" says it all', 'Cough Medicine', 'Great taffy', 'Nice Taffy', 'Great!  Just as good as the expensive brands!', 'Wonderful, tasty taffy', 'Yay Barley', 'Healthy Dog Food']\n"
          ],
          "name": "stdout"
        }
      ]
    },
    {
      "cell_type": "markdown",
      "metadata": {
        "id": "UEuK_HmDz9NT"
      },
      "source": [
        "#Clean Text"
      ]
    },
    {
      "cell_type": "code",
      "metadata": {
        "id": "om1NFVqGztXe"
      },
      "source": [
        "contractions = { \n",
        "\"ain't\": \"am not\",\n",
        "\"aren't\": \"are not\",\n",
        "\"can't\": \"cannot\",\n",
        "\"can't've\": \"cannot have\",\n",
        "\"'cause\": \"because\",\n",
        "\"could've\": \"could have\",\n",
        "\"couldn't\": \"could not\",\n",
        "\"couldn't've\": \"could not have\",\n",
        "\"didn't\": \"did not\",\n",
        "\"doesn't\": \"does not\",\n",
        "\"don't\": \"do not\",\n",
        "\"hadn't\": \"had not\",\n",
        "\"hadn't've\": \"had not have\",\n",
        "\"hasn't\": \"has not\",\n",
        "\"haven't\": \"have not\",\n",
        "\"he'd\": \"he would\",\n",
        "\"he'd've\": \"he would have\",\n",
        "\"he'll\": \"he will\",\n",
        "\"he's\": \"he is\",\n",
        "\"how'd\": \"how did\",\n",
        "\"how'll\": \"how will\",\n",
        "\"how's\": \"how is\",\n",
        "\"i'd\": \"i would\",\n",
        "\"i'll\": \"i will\",\n",
        "\"i'm\": \"i am\",\n",
        "\"i've\": \"i have\",\n",
        "\"isn't\": \"is not\",\n",
        "\"it'd\": \"it would\",\n",
        "\"it'll\": \"it will\",\n",
        "\"it's\": \"it is\",\n",
        "\"let's\": \"let us\",\n",
        "\"ma'am\": \"madam\",\n",
        "\"mayn't\": \"may not\",\n",
        "\"might've\": \"might have\",\n",
        "\"mightn't\": \"might not\",\n",
        "\"must've\": \"must have\",\n",
        "\"mustn't\": \"must not\",\n",
        "\"needn't\": \"need not\",\n",
        "\"oughtn't\": \"ought not\",\n",
        "\"shan't\": \"shall not\",\n",
        "\"sha'n't\": \"shall not\",\n",
        "\"she'd\": \"she would\",\n",
        "\"she'll\": \"she will\",\n",
        "\"she's\": \"she is\",\n",
        "\"should've\": \"should have\",\n",
        "\"shouldn't\": \"should not\",\n",
        "\"that'd\": \"that would\",\n",
        "\"that's\": \"that is\",\n",
        "\"there'd\": \"there had\",\n",
        "\"there's\": \"there is\",\n",
        "\"they'd\": \"they would\",\n",
        "\"they'll\": \"they will\",\n",
        "\"they're\": \"they are\",\n",
        "\"they've\": \"they have\",\n",
        "\"wasn't\": \"was not\",\n",
        "\"we'd\": \"we would\",\n",
        "\"we'll\": \"we will\",\n",
        "\"we're\": \"we are\",\n",
        "\"we've\": \"we have\",\n",
        "\"weren't\": \"were not\",\n",
        "\"what'll\": \"what will\",\n",
        "\"what're\": \"what are\",\n",
        "\"what's\": \"what is\",\n",
        "\"what've\": \"what have\",\n",
        "\"where'd\": \"where did\",\n",
        "\"where's\": \"where is\",\n",
        "\"who'll\": \"who will\",\n",
        "\"who's\": \"who is\",\n",
        "\"won't\": \"will not\",\n",
        "\"wouldn't\": \"would not\",\n",
        "\"you'd\": \"you would\",\n",
        "\"you'll\": \"you will\",\n",
        "\"you're\": \"you are\"\n",
        "}"
      ],
      "execution_count": null,
      "outputs": []
    },
    {
      "cell_type": "code",
      "metadata": {
        "colab": {
          "base_uri": "https://localhost:8080/"
        },
        "id": "KvSQw2oOX6Wi",
        "outputId": "7369f730-5868-493b-edae-ad01dd1366ae"
      },
      "source": [
        "import re\n",
        "import nltk\n",
        "nltk.download('stopwords')\n",
        "from nltk.corpus import stopwords\n",
        "def clean_text(text, remove_stopwords):\n",
        "  text = text.lower()\n",
        "  text = text.split()\n",
        "  new_text = []\n",
        "  for word in text:\n",
        "      if word in contractions:\n",
        "          new_text.append(contractions[word])\n",
        "      else:\n",
        "          new_text.append(word)\n",
        "  text = \" \".join(new_text)\n",
        "  text = re.sub(r'https?:\\/\\/.*[\\r\\n]*', '', text, flags=re.MULTILINE)\n",
        "  text = re.sub(r'\\<a href', ' ', text)\n",
        "  text = re.sub(r'&amp;', '', text) \n",
        "  text = re.sub(r'<br />', ' ', text)\n",
        "  text = re.sub(r'\\'', ' ', text)\n",
        "  text = re.sub(r'[_\"\\-;%()|+&=*%.,!?:#$@\\[\\]/<>]', ' ', text)\n",
        "  if remove_stopwords:\n",
        "        text = text.split()\n",
        "        stops = set(stopwords.words(\"english\"))\n",
        "        text = [w for w in text if not w in stops]\n",
        "        text = \" \".join(text)\n",
        "  return text"
      ],
      "execution_count": null,
      "outputs": [
        {
          "output_type": "stream",
          "text": [
            "[nltk_data] Downloading package stopwords to /root/nltk_data...\n",
            "[nltk_data]   Unzipping corpora/stopwords.zip.\n"
          ],
          "name": "stdout"
        }
      ]
    },
    {
      "cell_type": "code",
      "metadata": {
        "colab": {
          "base_uri": "https://localhost:8080/"
        },
        "id": "snWpvH06mcIu",
        "outputId": "f1f32403-fd2a-4743-fdbb-5f7a69ab67e8"
      },
      "source": [
        "clean_input = [clean_text(text, remove_stopwords=True) for text in input]\n",
        "clean_target = [clean_text(text, remove_stopwords=False) for text in target]\n",
        "clean_input[:10]"
      ],
      "execution_count": null,
      "outputs": [
        {
          "output_type": "execute_result",
          "data": {
            "text/plain": [
              "['bought several vitality canned dog food products found good quality product looks like stew processed meat smells better labrador finicky appreciates product better',\n",
              " 'product arrived labeled jumbo salted peanuts peanuts actually small sized unsalted sure error vendor intended represent product jumbo',\n",
              " 'confection around centuries light pillowy citrus gelatin nuts case filberts cut tiny squares liberally coated powdered sugar tiny mouthful heaven chewy flavorful highly recommend yummy treat familiar story c lewis lion witch wardrobe treat seduces edmund selling brother sisters witch',\n",
              " 'looking secret ingredient robitussin believe found got addition root beer extract ordered good made cherry soda flavor medicinal',\n",
              " 'great taffy great price wide assortment yummy taffy delivery quick taffy lover deal',\n",
              " 'got wild hair taffy ordered five pound bag taffy enjoyable many flavors watermelon root beer melon peppermint grape etc complaint bit much red black licorice flavored pieces particular favorites kids husband lasted two weeks would recommend brand taffy delightful treat',\n",
              " 'saltwater taffy great flavors soft chewy candy individually wrapped well none candies stuck together happen expensive version fralinger would highly recommend candy served beach themed party everyone loved',\n",
              " 'taffy good soft chewy flavors amazing would definitely recommend buying satisfying',\n",
              " 'right mostly sprouting cats eat grass love rotate around wheatgrass rye',\n",
              " 'healthy dog food good digestion also good small puppies dog eats required amount every feeding']"
            ]
          },
          "metadata": {
            "tags": []
          },
          "execution_count": 10
        }
      ]
    },
    {
      "cell_type": "code",
      "metadata": {
        "id": "-jBobyR8B4oX"
      },
      "source": [
        "embeddings_dict = {}\n",
        "with open('/content/glove.6B.300d.txt', 'r', encoding='utf-8') as glove:\n",
        "  for line in glove:\n",
        "    arr = line.split()\n",
        "    word = arr[0]\n",
        "    embedding = np.asarray(arr[1:], dtype='float32')\n",
        "    embeddings_dict[word] = embedding"
      ],
      "execution_count": null,
      "outputs": []
    },
    {
      "cell_type": "code",
      "metadata": {
        "id": "FVYFRaCRF6iP"
      },
      "source": [
        "BOS = \"BOS\"\n",
        "EOS = \"EOS\"\n",
        "UNK = \"UNK\"\n",
        "PAD = \"PAD\""
      ],
      "execution_count": null,
      "outputs": []
    },
    {
      "cell_type": "code",
      "metadata": {
        "colab": {
          "base_uri": "https://localhost:8080/"
        },
        "id": "VKi_z8RoHjTm",
        "outputId": "6a245023-ec20-4d1a-fbc5-abf16f86850f"
      },
      "source": [
        "def count_words(count_dict, text):\n",
        "    '''Count the number of occurrences of each word in a set of text'''\n",
        "    for sentence in text:\n",
        "        for word in sentence.split():\n",
        "            if word not in count_dict:\n",
        "                count_dict[word] = 1\n",
        "            else:\n",
        "                count_dict[word] += 1\n",
        "count_dict = {}\n",
        "count_words(count_dict, clean_input)\n",
        "count_words(count_dict, clean_target)\n",
        "len(count_dict) "
      ],
      "execution_count": null,
      "outputs": [
        {
          "output_type": "execute_result",
          "data": {
            "text/plain": [
              "117971"
            ]
          },
          "metadata": {
            "tags": []
          },
          "execution_count": 13
        }
      ]
    },
    {
      "cell_type": "code",
      "metadata": {
        "id": "vdQhMGRWFbaj"
      },
      "source": [
        "def filter_unknown(text):\n",
        "  res = []\n",
        "  for seq in text:\n",
        "    tokens = seq.split()\n",
        "    for i in range(0, len(tokens)):\n",
        "      if count_dict[tokens[i]] < 30:\n",
        "        tokens[i] = UNK\n",
        "    res.append(\" \".join(tokens))\n",
        "  return res\n",
        "clean_input = filter_unknown(clean_input)\n",
        "clean_target = filter_unknown(clean_target)"
      ],
      "execution_count": null,
      "outputs": []
    },
    {
      "cell_type": "code",
      "metadata": {
        "id": "dcFoFb4soQIH"
      },
      "source": [
        "format_target = [BOS + \" \" + text + \" \" + EOS for text in clean_target]\n",
        "encoder_inputs = clean_input\n",
        "decoder_inputs = format_target"
      ],
      "execution_count": null,
      "outputs": []
    },
    {
      "cell_type": "markdown",
      "metadata": {
        "id": "OgNlZaOL98DH"
      },
      "source": [
        "#Convert words to ID"
      ]
    },
    {
      "cell_type": "code",
      "metadata": {
        "colab": {
          "base_uri": "https://localhost:8080/"
        },
        "id": "jOq-mN3Vtfzr",
        "outputId": "2271860e-edb0-46ee-90f1-d318871dc16d"
      },
      "source": [
        "from keras.preprocessing.text import Tokenizer\n",
        "VOCAB_SIZE = 117971\n",
        "full_text = encoder_inputs + decoder_inputs\n",
        "tokenizer = Tokenizer(num_words=VOCAB_SIZE, lower=False)\n",
        "tokenizer.fit_on_texts(full_text)\n",
        "word_index = tokenizer.word_index\n",
        "len(word_index)"
      ],
      "execution_count": null,
      "outputs": [
        {
          "output_type": "execute_result",
          "data": {
            "text/plain": [
              "18443"
            ]
          },
          "metadata": {
            "tags": []
          },
          "execution_count": 16
        }
      ]
    },
    {
      "cell_type": "code",
      "metadata": {
        "id": "kYN-bxhmvE--"
      },
      "source": [
        "word2idx = {k:v for k,v in word_index.items()}\n",
        "idx2word = {v:k for k,v in word_index.items()}\n",
        "word2idx[PAD] = 0\n",
        "idx2word[0] = PAD"
      ],
      "execution_count": null,
      "outputs": []
    },
    {
      "cell_type": "code",
      "metadata": {
        "id": "MThJxkojPRlo"
      },
      "source": [
        "num_words = len(word_index)\n",
        "embedding_dim = 300\n",
        "embeddings_matrix = np.zeros((num_words + 1, embedding_dim))\n",
        "for i in range(1, len(embeddings_matrix)):\n",
        "  word = idx2word[i]\n",
        "  if word in embeddings_dict:\n",
        "    embeddings_matrix[i] = embeddings_dict[word]\n",
        "  else:\n",
        "    new_embedding = np.array(np.random.uniform(-1.0, 1.0, embedding_dim))\n",
        "    embeddings_dict[word] = new_embedding\n",
        "    embeddings_matrix[i] = new_embedding"
      ],
      "execution_count": null,
      "outputs": []
    },
    {
      "cell_type": "code",
      "metadata": {
        "colab": {
          "base_uri": "https://localhost:8080/",
          "height": 299
        },
        "id": "4v2yJ3IPw-3N",
        "outputId": "9dfad33e-bf55-4cbc-c927-53aa844997c4"
      },
      "source": [
        "text_length = pd.DataFrame(np.array([[len(i.split()) for i in encoder_inputs], [len(i.split()) for i in decoder_inputs]]).T, columns=['text', 'summary'])\n",
        "text_length.describe()"
      ],
      "execution_count": null,
      "outputs": [
        {
          "output_type": "execute_result",
          "data": {
            "text/html": [
              "<div>\n",
              "<style scoped>\n",
              "    .dataframe tbody tr th:only-of-type {\n",
              "        vertical-align: middle;\n",
              "    }\n",
              "\n",
              "    .dataframe tbody tr th {\n",
              "        vertical-align: top;\n",
              "    }\n",
              "\n",
              "    .dataframe thead th {\n",
              "        text-align: right;\n",
              "    }\n",
              "</style>\n",
              "<table border=\"1\" class=\"dataframe\">\n",
              "  <thead>\n",
              "    <tr style=\"text-align: right;\">\n",
              "      <th></th>\n",
              "      <th>text</th>\n",
              "      <th>summary</th>\n",
              "    </tr>\n",
              "  </thead>\n",
              "  <tbody>\n",
              "    <tr>\n",
              "      <th>count</th>\n",
              "      <td>568454.000000</td>\n",
              "      <td>568454.000000</td>\n",
              "    </tr>\n",
              "    <tr>\n",
              "      <th>mean</th>\n",
              "      <td>39.558107</td>\n",
              "      <td>6.181371</td>\n",
              "    </tr>\n",
              "    <tr>\n",
              "      <th>std</th>\n",
              "      <td>39.823536</td>\n",
              "      <td>2.657877</td>\n",
              "    </tr>\n",
              "    <tr>\n",
              "      <th>min</th>\n",
              "      <td>0.000000</td>\n",
              "      <td>2.000000</td>\n",
              "    </tr>\n",
              "    <tr>\n",
              "      <th>25%</th>\n",
              "      <td>17.000000</td>\n",
              "      <td>4.000000</td>\n",
              "    </tr>\n",
              "    <tr>\n",
              "      <th>50%</th>\n",
              "      <td>28.000000</td>\n",
              "      <td>6.000000</td>\n",
              "    </tr>\n",
              "    <tr>\n",
              "      <th>75%</th>\n",
              "      <td>48.000000</td>\n",
              "      <td>7.000000</td>\n",
              "    </tr>\n",
              "    <tr>\n",
              "      <th>max</th>\n",
              "      <td>2007.000000</td>\n",
              "      <td>50.000000</td>\n",
              "    </tr>\n",
              "  </tbody>\n",
              "</table>\n",
              "</div>"
            ],
            "text/plain": [
              "                text        summary\n",
              "count  568454.000000  568454.000000\n",
              "mean       39.558107       6.181371\n",
              "std        39.823536       2.657877\n",
              "min         0.000000       2.000000\n",
              "25%        17.000000       4.000000\n",
              "50%        28.000000       6.000000\n",
              "75%        48.000000       7.000000\n",
              "max      2007.000000      50.000000"
            ]
          },
          "metadata": {
            "tags": []
          },
          "execution_count": 19
        }
      ]
    },
    {
      "cell_type": "code",
      "metadata": {
        "colab": {
          "base_uri": "https://localhost:8080/",
          "height": 403
        },
        "id": "Bhga5__313Fe",
        "outputId": "bacd8316-6e6b-43a0-aff8-71e6c5ac98d8"
      },
      "source": [
        "import matplotlib.pyplot as plt\n",
        "import numpy as np\n",
        "%matplotlib inline\n",
        "from matplotlib.pyplot import figure\n",
        "\n",
        "fig, axes = plt.subplots(1, 2, figsize=(8,6))\n",
        "g1 = axes[0]\n",
        "g2 = axes[1]\n",
        "g1.hist(text_length['text'], bins=30)  # density=False would make counts\n",
        "g1.set_ylabel('Frequency')\n",
        "g1.set_xlabel('Length');\n",
        "g2.hist(text_length['summary'], bins=30)  # density=False would make counts\n",
        "g2.set_ylabel('Frequency')\n",
        "g2.set_xlabel('Length');\n",
        "\n",
        "plt.tight_layout(pad = 3)"
      ],
      "execution_count": null,
      "outputs": [
        {
          "output_type": "display_data",
          "data": {
            "image/png": "[encoded data removed]",
            "text/plain": [
              "<Figure size 576x432 with 2 Axes>"
            ]
          },
          "metadata": {
            "tags": [],
            "needs_background": "light"
          }
        }
      ]
    },
    {
      "cell_type": "code",
      "metadata": {
        "colab": {
          "base_uri": "https://localhost:8080/"
        },
        "id": "JfG-TRF_9Vey",
        "outputId": "8ae84d92-eeea-46c2-d857-d9fa406acea4"
      },
      "source": [
        "text_per = np.percentile(text_length['text'], 95)\n",
        "sum_per = np.percentile(text_length['summary'], 99)\n",
        "print(f'99th percentile of text length is {text_per}')\n",
        "print(f'99th percentile of summary length is {sum_per}')"
      ],
      "execution_count": null,
      "outputs": [
        {
          "output_type": "stream",
          "text": [
            "99th percentile of text length is 108.0\n",
            "99th percentile of summary length is 15.0\n"
          ],
          "name": "stdout"
        }
      ]
    },
    {
      "cell_type": "code",
      "metadata": {
        "id": "qIDm-s3TufC-"
      },
      "source": [
        "MIN_TEXT_LENGTH = 3\n",
        "MIN_SUM_LENGTH = 1\n",
        "MAX_TEXT_LENGTH = 108\n",
        "MAX_SUM_LENGTH = 13\n",
        "UNK_LIMIT = 2\n",
        "\n",
        "def unk_counter(words):\n",
        "  count = 0\n",
        "  for word in words:\n",
        "    if word == UNK:\n",
        "      count = count + 1\n",
        "  return count\n",
        "\n",
        "def sorted_data_by_length(encoder_text, decoder_text, min_encoder_length, max_encoder_length, min_decoder_length, max_decoder_length, unk_limit):\n",
        "  sorted_encoder_text = []\n",
        "  sorted_decoder_text = []\n",
        "  for i in range(0, len(encoder_text)):\n",
        "    encoder_words = encoder_text[i].split()\n",
        "    decoder_words = decoder_text[i].split()\n",
        "    if (len(encoder_words) < max_encoder_length and\n",
        "        len(encoder_words) > min_encoder_length and \n",
        "        len(decoder_words) > min_decoder_length and\n",
        "        len(decoder_words) < max_decoder_length and \n",
        "        unk_counter(encoder_words) <= unk_limit and\n",
        "        unk_counter(decoder_words) <= unk_limit):\n",
        "      sorted_encoder_text.append(encoder_text[i])\n",
        "      sorted_decoder_text.append(decoder_text[i])\n",
        "  return sorted_encoder_text, sorted_decoder_text\n",
        "\n",
        "sorted_encoder_input, sorted_decoder_input = sorted_data_by_length(encoder_inputs, \n",
        "                                                                   decoder_inputs,\n",
        "                                                                   MIN_TEXT_LENGTH,\n",
        "                                                                   MAX_TEXT_LENGTH, \n",
        "                                                                   MIN_SUM_LENGTH,\n",
        "                                                                   MAX_SUM_LENGTH,\n",
        "                                                                   UNK_LIMIT)"
      ],
      "execution_count": null,
      "outputs": []
    },
    {
      "cell_type": "code",
      "metadata": {
        "id": "pJarQxh0t1vV"
      },
      "source": [
        "encoder_idx = tokenizer.texts_to_sequences(sorted_encoder_input)\n",
        "decoder_idx = tokenizer.texts_to_sequences(sorted_decoder_input)"
      ],
      "execution_count": null,
      "outputs": []
    },
    {
      "cell_type": "code",
      "metadata": {
        "id": "S2Y2YSyym5tG"
      },
      "source": [
        "from keras.preprocessing.sequence import pad_sequences\n",
        "encoder_input_data = pad_sequences(encoder_idx, maxlen=MAX_TEXT_LENGTH, dtype='int32', padding='post', truncating='post')\n",
        "decoder_input_data = pad_sequences(decoder_idx, maxlen=MAX_SUM_LENGTH, dtype='int32', padding='post', truncating='post')"
      ],
      "execution_count": null,
      "outputs": []
    },
    {
      "cell_type": "code",
      "metadata": {
        "colab": {
          "base_uri": "https://localhost:8080/"
        },
        "id": "048EKJQ0qO3l",
        "outputId": "81c4d017-7b37-4ec4-9473-d97a62f573ec"
      },
      "source": [
        "print(encoder_input_data.shape)\n",
        "print(decoder_input_data.shape)"
      ],
      "execution_count": null,
      "outputs": [
        {
          "output_type": "stream",
          "text": [
            "(501339, 108)\n",
            "(501339, 13)\n"
          ],
          "name": "stdout"
        }
      ]
    },
    {
      "cell_type": "code",
      "metadata": {
        "id": "2tJ1sD8ilXyE"
      },
      "source": [
        "output_data = decoder_input_data[:,1:]\n",
        "decoder_input_data = decoder_input_data[:,:-1]"
      ],
      "execution_count": null,
      "outputs": []
    },
    {
      "cell_type": "markdown",
      "metadata": {
        "id": "9JVidr8O-HWL"
      },
      "source": [
        "#Prepare train, valid, test data"
      ]
    },
    {
      "cell_type": "code",
      "metadata": {
        "colab": {
          "base_uri": "https://localhost:8080/"
        },
        "id": "TjufESdOoSfe",
        "outputId": "875d4a4c-31e1-49bb-bdf7-edabcde76f43"
      },
      "source": [
        "!pip install -U tensorflow-addons\n",
        "import tensorflow as tf\n",
        "import tensorflow_addons as tfa"
      ],
      "execution_count": null,
      "outputs": [
        {
          "output_type": "stream",
          "text": [
            "Collecting tensorflow-addons\n",
            "\u001b[?25l  Downloading https://files.pythonhosted.org/packages/66/4b/e893d194e626c24b3df2253066aa418f46a432fdb68250cde14bf9bb0700/tensorflow_addons-0.13.0-cp37-cp37m-manylinux2010_x86_64.whl (679kB)\n",
            "\r\u001b[K     |▌                               | 10kB 25.5MB/s eta 0:00:01\r\u001b[K     |█                               | 20kB 8.1MB/s eta 0:00:01\r\u001b[K     |█▌                              | 30kB 7.6MB/s eta 0:00:01\r\u001b[K     |██                              | 40kB 7.3MB/s eta 0:00:01\r\u001b[K     |██▍                             | 51kB 4.0MB/s eta 0:00:01\r\u001b[K     |███                             | 61kB 4.3MB/s eta 0:00:01\r\u001b[K     |███▍                            | 71kB 4.7MB/s eta 0:00:01\r\u001b[K     |███▉                            | 81kB 5.1MB/s eta 0:00:01\r\u001b[K     |████▍                           | 92kB 5.4MB/s eta 0:00:01\r\u001b[K     |████▉                           | 102kB 4.3MB/s eta 0:00:01\r\u001b[K     |█████▎                          | 112kB 4.3MB/s eta 0:00:01\r\u001b[K     |█████▉                          | 122kB 4.3MB/s eta 0:00:01\r\u001b[K     |██████▎                         | 133kB 4.3MB/s eta 0:00:01\r\u001b[K     |██████▊                         | 143kB 4.3MB/s eta 0:00:01\r\u001b[K     |███████▎                        | 153kB 4.3MB/s eta 0:00:01\r\u001b[K     |███████▊                        | 163kB 4.3MB/s eta 0:00:01\r\u001b[K     |████████▏                       | 174kB 4.3MB/s eta 0:00:01\r\u001b[K     |████████▊                       | 184kB 4.3MB/s eta 0:00:01\r\u001b[K     |█████████▏                      | 194kB 4.3MB/s eta 0:00:01\r\u001b[K     |█████████▋                      | 204kB 4.3MB/s eta 0:00:01\r\u001b[K     |██████████▏                     | 215kB 4.3MB/s eta 0:00:01\r\u001b[K     |██████████▋                     | 225kB 4.3MB/s eta 0:00:01\r\u001b[K     |███████████                     | 235kB 4.3MB/s eta 0:00:01\r\u001b[K     |███████████▋                    | 245kB 4.3MB/s eta 0:00:01\r\u001b[K     |████████████                    | 256kB 4.3MB/s eta 0:00:01\r\u001b[K     |████████████▌                   | 266kB 4.3MB/s eta 0:00:01\r\u001b[K     |█████████████                   | 276kB 4.3MB/s eta 0:00:01\r\u001b[K     |█████████████▌                  | 286kB 4.3MB/s eta 0:00:01\r\u001b[K     |██████████████                  | 296kB 4.3MB/s eta 0:00:01\r\u001b[K     |██████████████▌                 | 307kB 4.3MB/s eta 0:00:01\r\u001b[K     |███████████████                 | 317kB 4.3MB/s eta 0:00:01\r\u001b[K     |███████████████▍                | 327kB 4.3MB/s eta 0:00:01\r\u001b[K     |████████████████                | 337kB 4.3MB/s eta 0:00:01\r\u001b[K     |████████████████▍               | 348kB 4.3MB/s eta 0:00:01\r\u001b[K     |████████████████▉               | 358kB 4.3MB/s eta 0:00:01\r\u001b[K     |█████████████████▍              | 368kB 4.3MB/s eta 0:00:01\r\u001b[K     |█████████████████▉              | 378kB 4.3MB/s eta 0:00:01\r\u001b[K     |██████████████████▎             | 389kB 4.3MB/s eta 0:00:01\r\u001b[K     |██████████████████▉             | 399kB 4.3MB/s eta 0:00:01\r\u001b[K     |███████████████████▎            | 409kB 4.3MB/s eta 0:00:01\r\u001b[K     |███████████████████▊            | 419kB 4.3MB/s eta 0:00:01\r\u001b[K     |████████████████████▎           | 430kB 4.3MB/s eta 0:00:01\r\u001b[K     |████████████████████▊           | 440kB 4.3MB/s eta 0:00:01\r\u001b[K     |█████████████████████▏          | 450kB 4.3MB/s eta 0:00:01\r\u001b[K     |█████████████████████▊          | 460kB 4.3MB/s eta 0:00:01\r\u001b[K     |██████████████████████▏         | 471kB 4.3MB/s eta 0:00:01\r\u001b[K     |██████████████████████▋         | 481kB 4.3MB/s eta 0:00:01\r\u001b[K     |███████████████████████▏        | 491kB 4.3MB/s eta 0:00:01\r\u001b[K     |███████████████████████▋        | 501kB 4.3MB/s eta 0:00:01\r\u001b[K     |████████████████████████        | 512kB 4.3MB/s eta 0:00:01\r\u001b[K     |████████████████████████▋       | 522kB 4.3MB/s eta 0:00:01\r\u001b[K     |█████████████████████████       | 532kB 4.3MB/s eta 0:00:01\r\u001b[K     |█████████████████████████▌      | 542kB 4.3MB/s eta 0:00:01\r\u001b[K     |██████████████████████████      | 552kB 4.3MB/s eta 0:00:01\r\u001b[K     |██████████████████████████▌     | 563kB 4.3MB/s eta 0:00:01\r\u001b[K     |███████████████████████████     | 573kB 4.3MB/s eta 0:00:01\r\u001b[K     |███████████████████████████▌    | 583kB 4.3MB/s eta 0:00:01\r\u001b[K     |████████████████████████████    | 593kB 4.3MB/s eta 0:00:01\r\u001b[K     |████████████████████████████▍   | 604kB 4.3MB/s eta 0:00:01\r\u001b[K     |█████████████████████████████   | 614kB 4.3MB/s eta 0:00:01\r\u001b[K     |█████████████████████████████▍  | 624kB 4.3MB/s eta 0:00:01\r\u001b[K     |█████████████████████████████▉  | 634kB 4.3MB/s eta 0:00:01\r\u001b[K     |██████████████████████████████▍ | 645kB 4.3MB/s eta 0:00:01\r\u001b[K     |██████████████████████████████▉ | 655kB 4.3MB/s eta 0:00:01\r\u001b[K     |███████████████████████████████▎| 665kB 4.3MB/s eta 0:00:01\r\u001b[K     |███████████████████████████████▉| 675kB 4.3MB/s eta 0:00:01\r\u001b[K     |████████████████████████████████| 686kB 4.3MB/s \n",
            "\u001b[?25hRequirement already satisfied, skipping upgrade: typeguard>=2.7 in /usr/local/lib/python3.7/dist-packages (from tensorflow-addons) (2.7.1)\n",
            "Installing collected packages: tensorflow-addons\n",
            "Successfully installed tensorflow-addons-0.13.0\n"
          ],
          "name": "stdout"
        }
      ]
    },
    {
      "cell_type": "code",
      "metadata": {
        "id": "3Jfn23Ue-Mzx"
      },
      "source": [
        "from sklearn.model_selection import train_test_split\n",
        "#split train, val and test data\n",
        "encoder_train_input, encoder_valid_test_input = train_test_split(encoder_input_data, test_size = 0.2, random_state=42)\n",
        "decoder_train_input, decoder_valid_test_input = train_test_split(decoder_input_data, test_size = 0.2, random_state=42)\n",
        "output_data_train, output_data_valid_test = train_test_split(output_data, test_size=0.2, random_state=42)\n",
        "\n",
        "#split val and test data\n",
        "encoder_val_input, encoder_test_input = train_test_split(encoder_valid_test_input, test_size = 0.2, random_state=42)\n",
        "decoder_val_input, decoder_test_input = train_test_split(decoder_valid_test_input, test_size = 0.2, random_state=42)\n",
        "output_data_val, output_data_test = train_test_split(output_data_valid_test, test_size = 0.2, random_state=42)"
      ],
      "execution_count": null,
      "outputs": []
    },
    {
      "cell_type": "code",
      "metadata": {
        "colab": {
          "base_uri": "https://localhost:8080/"
        },
        "id": "170T5VODOjvo",
        "outputId": "edc10a8a-1b02-46ed-ad60-9f25e969d225"
      },
      "source": [
        "print(f'encoder train shape {encoder_train_input.shape}')\n",
        "print(f'encoder valid shape {encoder_val_input.shape}')\n",
        "print(f'encoder test shape {encoder_test_input.shape}')\n",
        "print()\n",
        "print(f'decoder train shape {decoder_train_input.shape}')\n",
        "print(f'decoder valid shape {decoder_val_input.shape}')\n",
        "print(f'decoder test shape {decoder_test_input.shape}')\n",
        "print()\n",
        "print(f'output train shape {output_data_train.shape}')\n",
        "print(f'output valid shape {output_data_val.shape}')\n",
        "print(f'output test shape {output_data_test.shape}')"
      ],
      "execution_count": null,
      "outputs": [
        {
          "output_type": "stream",
          "text": [
            "encoder train shape (401071, 108)\n",
            "encoder valid shape (80214, 108)\n",
            "encoder test shape (20054, 108)\n",
            "\n",
            "decoder train shape (401071, 12)\n",
            "decoder valid shape (80214, 12)\n",
            "decoder test shape (20054, 12)\n",
            "\n",
            "output train shape (401071, 12)\n",
            "output valid shape (80214, 12)\n",
            "output test shape (20054, 12)\n"
          ],
          "name": "stdout"
        }
      ]
    },
    {
      "cell_type": "markdown",
      "metadata": {
        "id": "Fvuv3APs5XB2"
      },
      "source": [
        "#Build Model"
      ]
    },
    {
      "cell_type": "code",
      "metadata": {
        "id": "0uzf53LZmY4e"
      },
      "source": [
        "from keras.layers import Embedding\n",
        "from keras.layers import Input, Dense, LSTM, TimeDistributed, LSTMCell\n",
        "from keras.models import Model\n",
        "import tensorflow_addons as tfa\n",
        "def embedding_layer(sequence_length):\n",
        "  embedding_layer = tf.keras.layers.Embedding(len(word_index) + 1,\n",
        "                            embedding_dim,\n",
        "                            weights=[embeddings_matrix],\n",
        "                            input_length=sequence_length,\n",
        "                            trainable=False)\n",
        "  return embedding_layer\n",
        "\n",
        "def seq2seq_model_builder(units=300):\n",
        "  encoder_inputs = tf.keras.layers.Input(shape=[None], dtype=np.int32)\n",
        "  decoder_inputs = tf.keras.layers.Input(shape=[None], dtype=np.int32)\n",
        "\n",
        "  encoder_embeddings = tf.keras.layers.Embedding(len(word_index) + 1,\n",
        "                            embedding_dim,\n",
        "                            weights=[embeddings_matrix],\n",
        "                            input_length=MAX_TEXT_LENGTH,\n",
        "                            trainable=False)(encoder_inputs)\n",
        "\n",
        "  decoder_embedding_layer = tf.keras.layers.Embedding(len(word_index) + 1,\n",
        "                            embedding_dim,\n",
        "                            weights=[embeddings_matrix],\n",
        "                            input_length=12,\n",
        "                            trainable=False)\n",
        "  decoder_embeddings = decoder_embedding_layer(decoder_inputs)\n",
        "\n",
        "  encoder = tf.keras.layers.LSTM(units, return_state=True)\n",
        "  encoder_outputs, state_h, state_c = encoder(encoder_embeddings)\n",
        "  encoder_state = [state_h, state_c]\n",
        "\n",
        "  sampler = tfa.seq2seq.sampler.TrainingSampler()\n",
        "\n",
        "  decoder_cell = tf.keras.layers.LSTMCell(units)\n",
        "  output_layer = tf.keras.layers.Dense(len(word_index) + 1)\n",
        "\n",
        "  decoder = tfa.seq2seq.basic_decoder.BasicDecoder(decoder_cell,\n",
        "                                                  sampler,\n",
        "                                                  output_layer=output_layer)\n",
        "  final_outputs, final_state, final_sequence_lengths = decoder(\n",
        "      decoder_embeddings,\n",
        "      initial_state=encoder_state)\n",
        "  Y_proba = tf.keras.layers.Activation(\"softmax\")(final_outputs.rnn_output)\n",
        "\n",
        "  model = tf.keras.models.Model(inputs=[encoder_inputs, decoder_inputs],\n",
        "                            outputs=[Y_proba])\n",
        "  return model\n"
      ],
      "execution_count": null,
      "outputs": []
    },
    {
      "cell_type": "code",
      "metadata": {
        "id": "kHl6idwBzNc8"
      },
      "source": [
        "model = seq2seq_model_builder()"
      ],
      "execution_count": null,
      "outputs": []
    },
    {
      "cell_type": "code",
      "metadata": {
        "colab": {
          "base_uri": "https://localhost:8080/"
        },
        "id": "5hpAWUDJ00UU",
        "outputId": "6126aba2-dc1e-41e3-c11e-887ec4bd7ce2"
      },
      "source": [
        "model.summary()\n",
        "# tf.keras.utils.plot_model(model, show_shapes=True)"
      ],
      "execution_count": null,
      "outputs": [
        {
          "output_type": "stream",
          "text": [
            "Model: \"model\"\n",
            "__________________________________________________________________________________________________\n",
            "Layer (type)                    Output Shape         Param #     Connected to                     \n",
            "==================================================================================================\n",
            "input_1 (InputLayer)            [(None, None)]       0                                            \n",
            "__________________________________________________________________________________________________\n",
            "input_2 (InputLayer)            [(None, None)]       0                                            \n",
            "__________________________________________________________________________________________________\n",
            "embedding (Embedding)           (None, None, 300)    5533200     input_1[0][0]                    \n",
            "__________________________________________________________________________________________________\n",
            "embedding_1 (Embedding)         (None, None, 300)    5533200     input_2[0][0]                    \n",
            "__________________________________________________________________________________________________\n",
            "lstm (LSTM)                     [(None, 300), (None, 721200      embedding[0][0]                  \n",
            "__________________________________________________________________________________________________\n",
            "basic_decoder (BasicDecoder)    (BasicDecoderOutput( 6272844     embedding_1[0][0]                \n",
            "                                                                 lstm[0][1]                       \n",
            "                                                                 lstm[0][2]                       \n",
            "__________________________________________________________________________________________________\n",
            "activation (Activation)         (None, None, 18444)  0           basic_decoder[0][0]              \n",
            "==================================================================================================\n",
            "Total params: 18,060,444\n",
            "Trainable params: 6,994,044\n",
            "Non-trainable params: 11,066,400\n",
            "__________________________________________________________________________________________________\n"
          ],
          "name": "stdout"
        }
      ]
    },
    {
      "cell_type": "markdown",
      "metadata": {
        "id": "3QrSoCksXmAh"
      },
      "source": [
        "#Model Training"
      ]
    },
    {
      "cell_type": "code",
      "metadata": {
        "id": "49j7PYlo02Wp"
      },
      "source": [
        "model.compile(optimizer='adam', loss ='sparse_categorical_crossentropy', metrics = ['accuracy'])"
      ],
      "execution_count": null,
      "outputs": []
    },
    {
      "cell_type": "code",
      "metadata": {
        "id": "3zs4skS209DC"
      },
      "source": [
        "BATCH_SIZE = 32\n",
        "EPOCHS = 10"
      ],
      "execution_count": 68,
      "outputs": []
    },
    {
      "cell_type": "code",
      "metadata": {
        "id": "UzlYGa1YblDZ"
      },
      "source": [
        "checkpoint = tf.keras.callbacks.ModelCheckpoint('/content/drive/MyDrive/AmazonReviews/model-{epoch:03d}-{accuracy:03f}-{val_accuracy:03f}.h5', verbose=1, monitor='loss',save_best_only=True, mode='auto')"
      ],
      "execution_count": 69,
      "outputs": []
    },
    {
      "cell_type": "code",
      "metadata": {
        "colab": {
          "base_uri": "https://localhost:8080/"
        },
        "id": "L9uj2l3A0-6H",
        "outputId": "c55e08d3-4cd9-4ea8-f668-cbdd0997fb4f"
      },
      "source": [
        "history = model.fit([encoder_train_input, decoder_train_input], \n",
        "                     output_data_train, \n",
        "                     epochs=  EPOCHS,\n",
        "                     batch_size=BATCH_SIZE,\n",
        "                     callbacks=[checkpoint],\n",
        "                     validation_data=([encoder_val_input, decoder_val_input], output_data_val))"
      ],
      "execution_count": 70,
      "outputs": [
        {
          "output_type": "stream",
          "text": [
            "Epoch 1/10\n",
            "12534/12534 [==============================] - 830s 66ms/step - loss: 0.8682 - accuracy: 0.8201 - val_loss: 1.3625 - val_accuracy: 0.7876\n",
            "\n",
            "Epoch 00001: loss improved from inf to 0.86818, saving model to /content/drive/MyDrive/AmazonReviews/model-001-0.820146-0.787580.h5\n",
            "Epoch 2/10\n",
            "12534/12534 [==============================] - 828s 66ms/step - loss: 0.8650 - accuracy: 0.8206 - val_loss: 1.3734 - val_accuracy: 0.7873\n",
            "\n",
            "Epoch 00002: loss improved from 0.86818 to 0.86499, saving model to /content/drive/MyDrive/AmazonReviews/model-002-0.820607-0.787284.h5\n",
            "Epoch 3/10\n",
            "12534/12534 [==============================] - 830s 66ms/step - loss: 0.8620 - accuracy: 0.8209 - val_loss: 1.3753 - val_accuracy: 0.7877\n",
            "\n",
            "Epoch 00003: loss improved from 0.86499 to 0.86195, saving model to /content/drive/MyDrive/AmazonReviews/model-003-0.820883-0.787701.h5\n",
            "Epoch 4/10\n",
            "12534/12534 [==============================] - 829s 66ms/step - loss: 0.8591 - accuracy: 0.8213 - val_loss: 1.3803 - val_accuracy: 0.7874\n",
            "\n",
            "Epoch 00004: loss improved from 0.86195 to 0.85909, saving model to /content/drive/MyDrive/AmazonReviews/model-004-0.821251-0.787436.h5\n",
            "Epoch 5/10\n",
            "12534/12534 [==============================] - 833s 66ms/step - loss: 0.8560 - accuracy: 0.8218 - val_loss: 1.3876 - val_accuracy: 0.7876\n",
            "\n",
            "Epoch 00005: loss improved from 0.85909 to 0.85597, saving model to /content/drive/MyDrive/AmazonReviews/model-005-0.821844-0.787597.h5\n",
            "Epoch 6/10\n",
            "12534/12534 [==============================] - 833s 66ms/step - loss: 0.8531 - accuracy: 0.8222 - val_loss: 1.3955 - val_accuracy: 0.7878\n",
            "\n",
            "Epoch 00006: loss improved from 0.85597 to 0.85311, saving model to /content/drive/MyDrive/AmazonReviews/model-006-0.822215-0.787816.h5\n",
            "Epoch 7/10\n",
            "12534/12534 [==============================] - 829s 66ms/step - loss: 0.8503 - accuracy: 0.8228 - val_loss: 1.4049 - val_accuracy: 0.7874\n",
            "\n",
            "Epoch 00007: loss improved from 0.85311 to 0.85025, saving model to /content/drive/MyDrive/AmazonReviews/model-007-0.822763-0.787431.h5\n",
            "Epoch 8/10\n",
            "12534/12534 [==============================] - 830s 66ms/step - loss: 0.8483 - accuracy: 0.8230 - val_loss: 1.4084 - val_accuracy: 0.7883\n",
            "\n",
            "Epoch 00008: loss improved from 0.85025 to 0.84829, saving model to /content/drive/MyDrive/AmazonReviews/model-008-0.822952-0.788265.h5\n",
            "Epoch 9/10\n",
            "12534/12534 [==============================] - 831s 66ms/step - loss: 0.8459 - accuracy: 0.8233 - val_loss: 1.4125 - val_accuracy: 0.7871\n",
            "\n",
            "Epoch 00009: loss improved from 0.84829 to 0.84595, saving model to /content/drive/MyDrive/AmazonReviews/model-009-0.823311-0.787114.h5\n",
            "Epoch 10/10\n",
            "12534/12534 [==============================] - 830s 66ms/step - loss: 0.8445 - accuracy: 0.8237 - val_loss: 1.4120 - val_accuracy: 0.7876\n",
            "\n",
            "Epoch 00010: loss improved from 0.84595 to 0.84450, saving model to /content/drive/MyDrive/AmazonReviews/model-010-0.823651-0.787611.h5\n"
          ],
          "name": "stdout"
        }
      ]
    },
    {
      "cell_type": "code",
      "metadata": {
        "id": "EYgfqRBY4SjE"
      },
      "source": [
        "text = []\n",
        "for seq in decoder_test_input:\n",
        "  sentence = []\n",
        "  for idx in seq:\n",
        "    if idx2word[idx] != 'BOS' and idx2word[idx] != 'PAD' and idx2word[idx] != 'EOS':\n",
        "      sentence.append(idx2word[idx])\n",
        "  text.append(\" \".join(sentence))\n",
        "text"
      ],
      "execution_count": null,
      "outputs": []
    },
    {
      "cell_type": "code",
      "metadata": {
        "id": "Qmw5w3hD2eIV"
      },
      "source": [
        "text = []\n",
        "for seq in encoder_test_input:\n",
        "  sentence = []\n",
        "  for idx in seq:\n",
        "    if idx2word[idx] != 'BOS' and idx2word[idx] != 'PAD' and idx2word[idx] != 'EOS':\n",
        "      sentence.append(idx2word[idx])\n",
        "  text.append(\" \".join(sentence))\n",
        "text"
      ],
      "execution_count": null,
      "outputs": []
    },
    {
      "cell_type": "markdown",
      "metadata": {
        "id": "JYbTXd59XuKg"
      },
      "source": [
        "#Predict and Inference"
      ]
    },
    {
      "cell_type": "code",
      "metadata": {
        "id": "6_N4TwyLU8Vz"
      },
      "source": [
        "model.load_weights('/content/drive/MyDrive/AmazonReviews/model-019-0.819509-0.787462.h5')"
      ],
      "execution_count": 44,
      "outputs": []
    },
    {
      "cell_type": "code",
      "metadata": {
        "id": "AK4t3Wr8AUEP"
      },
      "source": [
        "def text_to_padded_idx(text):\n",
        "    words = text.split()\n",
        "    ids_text = [word2idx[word] for word in words]\n",
        "    ids_text = tf.constant(ids_text)\n",
        "    if len(ids_text) < MAX_TEXT_LENGTH:\n",
        "      ids_text = tf.pad(ids_text, [[0, MAX_TEXT_LENGTH - len(ids_text)]])\n",
        "    return ids_text\n",
        "\n",
        "def ids_to_word(ids):\n",
        "  res = []\n",
        "  for sequence in ids:\n",
        "    res.append(\" \".join([idx2word[index.numpy()] for index in sequence]))\n",
        "  return res\n",
        "\n",
        "def predict_summary(texts, model):\n",
        "    print(texts)\n",
        "    X = np.array([text_to_padded_idx(text) for text in texts])\n",
        "    Y_pred = tf.fill(dims=(len(X), 1), value=word2idx['BOS'])\n",
        "    for index in range(MAX_SUM_LENGTH - 1):\n",
        "        pad_size = MAX_SUM_LENGTH - 1 - Y_pred.shape[1]\n",
        "        X_decoder = tf.pad(Y_pred, [[0, 0], [0, pad_size]])\n",
        "        Y_probas_next = model.predict([X, X_decoder])[:, index:index+1]\n",
        "        Y_pred_next = tf.argmax(Y_probas_next, axis=-1, output_type=tf.int32)\n",
        "        Y_pred = tf.concat([Y_pred, Y_pred_next], axis=1)\n",
        "    return ids_to_word(Y_pred[:, 1:])"
      ],
      "execution_count": 52,
      "outputs": []
    },
    {
      "cell_type": "code",
      "metadata": {
        "colab": {
          "base_uri": "https://localhost:8080/"
        },
        "id": "c2dD-JBRJq0q",
        "outputId": "04073d1f-79b3-497b-d449-8ef5f0d74770"
      },
      "source": [
        "predict_summary([clean_text(df['Text'][75001], True)], model)"
      ],
      "execution_count": 83,
      "outputs": [
        {
          "output_type": "stream",
          "text": [
            "['sure helps tarter since dogs need teeth cleaned every year tell really love stuff seem help breath probably settling stomachs never bad reaction treat']\n"
          ],
          "name": "stdout"
        },
        {
          "output_type": "execute_result",
          "data": {
            "text/plain": [
              "['dogs love them EOS PAD PAD PAD PAD PAD PAD PAD PAD']"
            ]
          },
          "metadata": {
            "tags": []
          },
          "execution_count": 83
        }
      ]
    },
    {
      "cell_type": "code",
      "metadata": {
        "id": "wCQXgvVC1DGy",
        "colab": {
          "base_uri": "https://localhost:8080/",
          "height": 404
        },
        "outputId": "206badbc-3389-45b4-f439-567a1234c722"
      },
      "source": [
        "plt.figure(figsize=(10, 6))\n",
        "plt.plot(history.history['loss'])\n",
        "#plt.plot(history.history['val_acc'])\n",
        "plt.title('model loss')\n",
        "plt.ylabel('loss')\n",
        "plt.xlabel('epoch')\n",
        "# plt.legend(['train', 'test'], loc='upper left')\n",
        "plt.show()"
      ],
      "execution_count": 79,
      "outputs": [
        {
          "output_type": "display_data",
          "data": {
            "image/png": "[encoded data removed]",
            "text/plain": [
              "<Figure size 720x432 with 1 Axes>"
            ]
          },
          "metadata": {
            "tags": [],
            "needs_background": "light"
          }
        }
      ]
    }
  ]
}